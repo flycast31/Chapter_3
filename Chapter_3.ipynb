{
 "cells": [
  {
   "cell_type": "markdown",
   "metadata": {},
   "source": [
    "# Listing_3.9: timeconv.py - program using Arithmetic Operators"
   ]
  },
  {
   "cell_type": "code",
   "execution_count": 2,
   "metadata": {},
   "outputs": [
    {
     "name": "stdout",
     "output_type": "stream",
     "text": [
      "Please enter the number of seconds:120\n",
      "0 hr, 2 min, 0 sec\n"
     ]
    }
   ],
   "source": [
    "#Listing_3.9: timeconv.py program using arithmetic operators\n",
    " \n",
    "# This program converts seconds into hours, minutes, and seconds.\n",
    "\n",
    "# Get the nuber of seconds from the user.\n",
    "seconds = int(input(\"Please enter the number of seconds:\"))\n",
    "# First, compute the number of hours in the given number of seconds.\n",
    "# Note: integer divison with possible truncation of fractional value.\n",
    "hours = seconds // 3600 # 3600 seconds = 1 hour\n",
    "# Compute the remaining seconds after the hours have been accounted for.\n",
    "seconds = seconds % 3600\n",
    "# Next, compute the number of mintues in the remaining number of seconds.\n",
    "minutes = seconds // 60 # 60 seconds = 1 minute.\n",
    "# Compute the remaining seconds after the minutes are accounted for.\n",
    "seconds = seconds % 60\n",
    "# Report the results.\n",
    "print(hours, \"hr,\", minutes, \"min,\", seconds, \"sec\")\n"
   ]
  },
  {
   "cell_type": "markdown",
   "metadata": {},
   "source": [
    "## Listing_3.10: enhancedtimeconv.py"
   ]
  },
  {
   "cell_type": "code",
   "execution_count": 3,
   "metadata": {},
   "outputs": [
    {
     "name": "stdout",
     "output_type": "stream",
     "text": [
      "Please enter the number of seconds:4623\n",
      "1:17:03\n"
     ]
    }
   ],
   "source": [
    "#Listing_3.10: enhancedtimeconv.py\n",
    "\n",
    "# Get the number of seconds from the user.\n",
    "seconds = int(input(\"Please enter the number of seconds:\"))\n",
    "# First, compute the number of hours in the given number of seconds\n",
    "# Note: interger division with possible truncation of fractional value.\n",
    "hours = seconds//3600 # 3600 seconds = 1 hour\n",
    "# Compute the remaining seconds after the hours have been accounted for.\n",
    "seconds = seconds % 3600\n",
    "# Next, compute the number of mintues in the remaining number of seconds.\n",
    "minutes = seconds // 60 # 60 seconds = 1 minute.\n",
    "# Compute the remaining seconds after the minutes are accounted for.\n",
    "seconds = seconds % 60\n",
    "# Report the results.\n",
    "print(hours, \":\", sep=\"\", end=\"\")\n",
    "# compute tens digit of minutes.\n",
    "tens = minutes // 10\n",
    "# Compute ones digit of minutes.\n",
    "ones = minutes % 10\n",
    "print(tens, ones, \":\", sep=\"\", end=\"\")\n",
    "# Compute tens digit of seconds.\n",
    "tens = seconds // 10\n",
    "# Compute ones digit of seconds\n",
    "ones = seconds % 10\n",
    "print(tens, ones, sep=\"\")"
   ]
  },
  {
   "cell_type": "markdown",
   "metadata": {},
   "source": [
    "# 3.10_Exercises"
   ]
  },
  {
   "cell_type": "code",
   "execution_count": 4,
   "metadata": {},
   "outputs": [
    {
     "name": "stdout",
     "output_type": "stream",
     "text": [
      "3\n"
     ]
    }
   ],
   "source": [
    "# Question: 3.10.6\n",
    "\n",
    "x = 2\n",
    "print(x+1)"
   ]
  },
  {
   "cell_type": "code",
   "execution_count": null,
   "metadata": {},
   "outputs": [],
   "source": [
    "# Question: 3.10.7\n",
    "\n",
    "i1 = 2\n",
    "i2 = 5\n",
    "i3 = -3\n",
    "d1 = 2.0\n",
    "d2 = 5.0\n",
    "d3 = -0.5\n",
    "\n",
    "print(d1*i1/i2)"
   ]
  },
  {
   "cell_type": "code",
   "execution_count": 5,
   "metadata": {},
   "outputs": [
    {
     "name": "stdout",
     "output_type": "stream",
     "text": [
      "Please enter a number to cut in half: 10\n",
      "5.0\n"
     ]
    }
   ],
   "source": [
    "# Question: 3.10.15\n",
    "\n",
    "# Get a number from the user.\n",
    "value = int(input('Please enter a number to cut in half: '))\n",
    "# Report the result\n",
    "print(value/2)"
   ]
  },
  {
   "cell_type": "code",
   "execution_count": 6,
   "metadata": {},
   "outputs": [
    {
     "name": "stdout",
     "output_type": "stream",
     "text": [
      "3\n",
      "1\n"
     ]
    }
   ],
   "source": [
    "# Question: 3.10.18\n",
    "\n",
    "x1 = 2\n",
    "x2 = 2\n",
    "x1 += 1\n",
    "x2 -= 1\n",
    "print(x1)\n",
    "print(x2)"
   ]
  },
  {
   "cell_type": "code",
   "execution_count": null,
   "metadata": {},
   "outputs": [],
   "source": []
  }
 ],
 "metadata": {
  "kernelspec": {
   "display_name": "Python 3",
   "language": "python",
   "name": "python3"
  },
  "language_info": {
   "codemirror_mode": {
    "name": "ipython",
    "version": 3
   },
   "file_extension": ".py",
   "mimetype": "text/x-python",
   "name": "python",
   "nbconvert_exporter": "python",
   "pygments_lexer": "ipython3",
   "version": "3.6.4"
  }
 },
 "nbformat": 4,
 "nbformat_minor": 2
}
